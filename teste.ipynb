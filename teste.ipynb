{
  "cells": [
    {
      "cell_type": "code",
      "execution_count": 1,
      "id": "073b03c1",
      "metadata": {
        "id": "073b03c1"
      },
      "outputs": [],
      "source": [
        "import numpy as np\n",
        "import matplotlib.pyplot as plt\n",
        "from scipy.optimize import curve_fit\n",
        "from ipywidgets import *;"
      ]
    },
    {
      "cell_type": "code",
      "execution_count": 57,
      "id": "403da214",
      "metadata": {
        "id": "403da214"
      },
      "outputs": [],
      "source": [
        "def gaussiana(x, amp, mean, stddev, bg):\n",
        "    return amp * np.exp(-(x - mean)**2 / (2 * stddev**2)) / (np.sqrt(2*np.pi)*stddev) + bg"
      ]
    },
    {
      "cell_type": "markdown",
      "id": "e055c4cb",
      "metadata": {
        "id": "e055c4cb"
      },
      "source": [
        "# Significância estatística\n",
        "\n",
        "BlaBla *Bla*"
      ]
    },
    {
      "cell_type": "code",
      "execution_count": 56,
      "id": "74f96b58",
      "metadata": {
        "id": "74f96b58"
      },
      "outputs": [],
      "source": [
        "fundo = 0\n",
        "\n",
        "x = np.random.randn(10000)\n",
        "bg = np.random.rand(fundo*100)*16.0-8.0\n",
        "\n",
        "def histograma(x,bg,w):\n",
        "    buffer = np.concatenate((x[:int(w)],bg))\n",
        "    bin_heights, bin_edges, _ = plt.hist(buffer,bins=100, range=(-8,8));\n",
        "    bin_centers = (bin_edges[:-1] + bin_edges[1:]) / 2\n",
        "    popt, pcov = curve_fit(gaussiana, bin_centers, bin_heights, p0=[1, 0, 1, 0], bounds=(0,np.inf))\n",
        "    x_interval = np.linspace(bin_edges[0], bin_edges[-1], 1000)\n",
        "    plt.plot(x_interval, gaussiana(x_interval, *popt), color='r', label='Ajuste Gaussiano')\n",
        "    plt.text(-7,800,'Centro: %.2f \\nSigma: %.2f\\nArea: %.2f\\nBG: %.2f'%(popt[1],popt[2],popt[0]/(bin_edges[1]-bin_edges[0]),popt[3]))\n",
        "    plt.xlim(xmin=-8, xmax=8)\n",
        "    plt.ylim(ymin=0,ymax=1000)\n",
        "    plt.show()\n",
        "    plt.clf() # Limpa os eixos\n",
        "    plt.cla() # Limpa a figura\n",
        "    plt.close() # Fecha o gráfico"
      ]
    },
    {
      "cell_type": "code",
      "execution_count": 58,
      "id": "2150dc70",
      "metadata": {
        "colab": {
          "base_uri": "https://localhost:8080/",
          "height": 467,
          "referenced_widgets": [
            "17d8ebc3e20c4b758849f4a8a0fbc8e9",
            "481c6e55c5a742858331809fe9b018dc",
            "3ccbbcdf1fa14eba977235643da9bcfa",
            "5f82e98e56bb4d6f91dffab03ec36f59",
            "973f72b51bcf4d7397e3fe23aa763366",
            "db8e18c6b5cb4dc1915c429e1936d4a4",
            "aeee46076be94906bb7bf2634ccf9c4a"
          ]
        },
        "id": "2150dc70",
        "outputId": "b55e37ae-f5de-4f81-ee2a-e733936b35b2"
      },
      "outputs": [
        {
          "output_type": "display_data",
          "data": {
            "text/plain": [
              "interactive(children=(FloatSlider(value=20.0, description='w', max=10000.0, min=4.0, step=100.0), Output()), _…"
            ],
            "application/vnd.jupyter.widget-view+json": {
              "version_major": 2,
              "version_minor": 0,
              "model_id": "17d8ebc3e20c4b758849f4a8a0fbc8e9"
            }
          },
          "metadata": {}
        }
      ],
      "source": [
        "def update(w = 20):\n",
        "        histograma(x,bg,w)\n",
        "interact(update,w=(4,1e4,100));"
      ]
    },
    {
      "cell_type": "code",
      "execution_count": null,
      "id": "e9e38468",
      "metadata": {
        "id": "e9e38468"
      },
      "outputs": [],
      "source": []
    }
  ],
  "metadata": {
    "kernelspec": {
      "display_name": "Python 3 (ipykernel)",
      "language": "python",
      "name": "python3"
    },
    "language_info": {
      "codemirror_mode": {
        "name": "ipython",
        "version": 3
      },
      "file_extension": ".py",
      "mimetype": "text/x-python",
      "name": "python",
      "nbconvert_exporter": "python",
      "pygments_lexer": "ipython3",
      "version": "3.10.12"
    },
    "colab": {
      "provenance": []
    },
    "widgets": {
      "application/vnd.jupyter.widget-state+json": {
        "17d8ebc3e20c4b758849f4a8a0fbc8e9": {
          "model_module": "@jupyter-widgets/controls",
          "model_name": "VBoxModel",
          "model_module_version": "1.5.0",
          "state": {
            "_dom_classes": [
              "widget-interact"
            ],
            "_model_module": "@jupyter-widgets/controls",
            "_model_module_version": "1.5.0",
            "_model_name": "VBoxModel",
            "_view_count": null,
            "_view_module": "@jupyter-widgets/controls",
            "_view_module_version": "1.5.0",
            "_view_name": "VBoxView",
            "box_style": "",
            "children": [
              "IPY_MODEL_481c6e55c5a742858331809fe9b018dc",
              "IPY_MODEL_3ccbbcdf1fa14eba977235643da9bcfa"
            ],
            "layout": "IPY_MODEL_5f82e98e56bb4d6f91dffab03ec36f59"
          }
        },
        "481c6e55c5a742858331809fe9b018dc": {
          "model_module": "@jupyter-widgets/controls",
          "model_name": "FloatSliderModel",
          "model_module_version": "1.5.0",
          "state": {
            "_dom_classes": [],
            "_model_module": "@jupyter-widgets/controls",
            "_model_module_version": "1.5.0",
            "_model_name": "FloatSliderModel",
            "_view_count": null,
            "_view_module": "@jupyter-widgets/controls",
            "_view_module_version": "1.5.0",
            "_view_name": "FloatSliderView",
            "continuous_update": true,
            "description": "w",
            "description_tooltip": null,
            "disabled": false,
            "layout": "IPY_MODEL_973f72b51bcf4d7397e3fe23aa763366",
            "max": 10000,
            "min": 4,
            "orientation": "horizontal",
            "readout": true,
            "readout_format": ".2f",
            "step": 100,
            "style": "IPY_MODEL_db8e18c6b5cb4dc1915c429e1936d4a4",
            "value": 6604
          }
        },
        "3ccbbcdf1fa14eba977235643da9bcfa": {
          "model_module": "@jupyter-widgets/output",
          "model_name": "OutputModel",
          "model_module_version": "1.0.0",
          "state": {
            "_dom_classes": [],
            "_model_module": "@jupyter-widgets/output",
            "_model_module_version": "1.0.0",
            "_model_name": "OutputModel",
            "_view_count": null,
            "_view_module": "@jupyter-widgets/output",
            "_view_module_version": "1.0.0",
            "_view_name": "OutputView",
            "layout": "IPY_MODEL_aeee46076be94906bb7bf2634ccf9c4a",
            "msg_id": "",
            "outputs": [
              {
                "output_type": "display_data",
                "data": {
                  "text/plain": "<Figure size 640x480 with 1 Axes>",
                  "image/png": "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\n"
                },
                "metadata": {}
              }
            ]
          }
        },
        "5f82e98e56bb4d6f91dffab03ec36f59": {
          "model_module": "@jupyter-widgets/base",
          "model_name": "LayoutModel",
          "model_module_version": "1.2.0",
          "state": {
            "_model_module": "@jupyter-widgets/base",
            "_model_module_version": "1.2.0",
            "_model_name": "LayoutModel",
            "_view_count": null,
            "_view_module": "@jupyter-widgets/base",
            "_view_module_version": "1.2.0",
            "_view_name": "LayoutView",
            "align_content": null,
            "align_items": null,
            "align_self": null,
            "border": null,
            "bottom": null,
            "display": null,
            "flex": null,
            "flex_flow": null,
            "grid_area": null,
            "grid_auto_columns": null,
            "grid_auto_flow": null,
            "grid_auto_rows": null,
            "grid_column": null,
            "grid_gap": null,
            "grid_row": null,
            "grid_template_areas": null,
            "grid_template_columns": null,
            "grid_template_rows": null,
            "height": null,
            "justify_content": null,
            "justify_items": null,
            "left": null,
            "margin": null,
            "max_height": null,
            "max_width": null,
            "min_height": null,
            "min_width": null,
            "object_fit": null,
            "object_position": null,
            "order": null,
            "overflow": null,
            "overflow_x": null,
            "overflow_y": null,
            "padding": null,
            "right": null,
            "top": null,
            "visibility": null,
            "width": null
          }
        },
        "973f72b51bcf4d7397e3fe23aa763366": {
          "model_module": "@jupyter-widgets/base",
          "model_name": "LayoutModel",
          "model_module_version": "1.2.0",
          "state": {
            "_model_module": "@jupyter-widgets/base",
            "_model_module_version": "1.2.0",
            "_model_name": "LayoutModel",
            "_view_count": null,
            "_view_module": "@jupyter-widgets/base",
            "_view_module_version": "1.2.0",
            "_view_name": "LayoutView",
            "align_content": null,
            "align_items": null,
            "align_self": null,
            "border": null,
            "bottom": null,
            "display": null,
            "flex": null,
            "flex_flow": null,
            "grid_area": null,
            "grid_auto_columns": null,
            "grid_auto_flow": null,
            "grid_auto_rows": null,
            "grid_column": null,
            "grid_gap": null,
            "grid_row": null,
            "grid_template_areas": null,
            "grid_template_columns": null,
            "grid_template_rows": null,
            "height": null,
            "justify_content": null,
            "justify_items": null,
            "left": null,
            "margin": null,
            "max_height": null,
            "max_width": null,
            "min_height": null,
            "min_width": null,
            "object_fit": null,
            "object_position": null,
            "order": null,
            "overflow": null,
            "overflow_x": null,
            "overflow_y": null,
            "padding": null,
            "right": null,
            "top": null,
            "visibility": null,
            "width": null
          }
        },
        "db8e18c6b5cb4dc1915c429e1936d4a4": {
          "model_module": "@jupyter-widgets/controls",
          "model_name": "SliderStyleModel",
          "model_module_version": "1.5.0",
          "state": {
            "_model_module": "@jupyter-widgets/controls",
            "_model_module_version": "1.5.0",
            "_model_name": "SliderStyleModel",
            "_view_count": null,
            "_view_module": "@jupyter-widgets/base",
            "_view_module_version": "1.2.0",
            "_view_name": "StyleView",
            "description_width": "",
            "handle_color": null
          }
        },
        "aeee46076be94906bb7bf2634ccf9c4a": {
          "model_module": "@jupyter-widgets/base",
          "model_name": "LayoutModel",
          "model_module_version": "1.2.0",
          "state": {
            "_model_module": "@jupyter-widgets/base",
            "_model_module_version": "1.2.0",
            "_model_name": "LayoutModel",
            "_view_count": null,
            "_view_module": "@jupyter-widgets/base",
            "_view_module_version": "1.2.0",
            "_view_name": "LayoutView",
            "align_content": null,
            "align_items": null,
            "align_self": null,
            "border": null,
            "bottom": null,
            "display": null,
            "flex": null,
            "flex_flow": null,
            "grid_area": null,
            "grid_auto_columns": null,
            "grid_auto_flow": null,
            "grid_auto_rows": null,
            "grid_column": null,
            "grid_gap": null,
            "grid_row": null,
            "grid_template_areas": null,
            "grid_template_columns": null,
            "grid_template_rows": null,
            "height": null,
            "justify_content": null,
            "justify_items": null,
            "left": null,
            "margin": null,
            "max_height": null,
            "max_width": null,
            "min_height": null,
            "min_width": null,
            "object_fit": null,
            "object_position": null,
            "order": null,
            "overflow": null,
            "overflow_x": null,
            "overflow_y": null,
            "padding": null,
            "right": null,
            "top": null,
            "visibility": null,
            "width": null
          }
        }
      }
    }
  },
  "nbformat": 4,
  "nbformat_minor": 5
}