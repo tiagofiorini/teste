{
 "cells": [
  {
   "cell_type": "code",
   "execution_count": 73,
   "id": "073b03c1",
   "metadata": {},
   "outputs": [],
   "source": [
    "import numpy as np\n",
    "import matplotlib.pyplot as plt\n",
    "from scipy.optimize import curve_fit\n",
    "from ipywidgets import *;"
   ]
  },
  {
   "cell_type": "markdown",
   "id": "e055c4cb",
   "metadata": {},
   "source": [
    "# Significância estatística\n",
    "\n",
    "BlaBla *Bla*"
   ]
  },
  {
   "cell_type": "code",
   "execution_count": 70,
   "id": "74f96b58",
   "metadata": {},
   "outputs": [],
   "source": [
    "x = np.random.randn(10000)\n",
    "def histograma(x,w):\n",
    "    bin_heights, bin_edges, _ = plt.hist(x[:int(w)],bins=100, range=(-3,3));\n",
    "    bin_centers = (bin_edges[:-1] + bin_edges[1:]) / 2\n",
    "    popt, pcov = curve_fit(gaussiana, bin_centers, bin_heights, p0=[1, 0, 1], bounds=(0,np.inf))\n",
    "    x_interval = np.linspace(bin_edges[0], bin_edges[-1], 1000)\n",
    "    plt.plot(x_interval, gaussiana(x_interval, *popt), color='r', label='Ajuste Gaussiano')\n",
    "    plt.text(-2.5,250,'Centro: %.2f \\nSigma: %.2f\\nArea: %.2f'%(popt[1],popt[2],popt[0]/(bin_edges[1]-bin_edges[0])))\n",
    "    plt.xlim(xmin=-3, xmax=3)\n",
    "    plt.ylim(ymin=0,ymax=300)"
   ]
  },
  {
   "cell_type": "code",
   "execution_count": 71,
   "id": "403da214",
   "metadata": {},
   "outputs": [],
   "source": [
    "def gaussiana(x, amp, mean, stddev):\n",
    "    return amp * np.exp(-(x - mean)**2 / (2 * stddev**2)) / (np.sqrt(2*np.pi)*stddev)"
   ]
  },
  {
   "cell_type": "code",
   "execution_count": 72,
   "id": "2150dc70",
   "metadata": {},
   "outputs": [
    {
     "data": {
      "application/vnd.jupyter.widget-view+json": {
       "model_id": "4057592eacdf435781729dfff2a0245a",
       "version_major": 2,
       "version_minor": 0
      },
      "text/plain": [
       "interactive(children=(FloatSlider(value=20.0, description='w', max=10000.0, min=4.0, step=100.0), Output()), _…"
      ]
     },
     "metadata": {},
     "output_type": "display_data"
    }
   ],
   "source": [
    "def update(w = 20):\n",
    "        histograma(x,w)\n",
    "interact(update,w=(4,1e4,100));"
   ]
  },
  {
   "cell_type": "code",
   "execution_count": null,
   "id": "e9e38468",
   "metadata": {},
   "outputs": [],
   "source": []
  }
 ],
 "metadata": {
  "kernelspec": {
   "display_name": "Python 3 (ipykernel)",
   "language": "python",
   "name": "python3"
  },
  "language_info": {
   "codemirror_mode": {
    "name": "ipython",
    "version": 3
   },
   "file_extension": ".py",
   "mimetype": "text/x-python",
   "name": "python",
   "nbconvert_exporter": "python",
   "pygments_lexer": "ipython3",
   "version": "3.10.12"
  }
 },
 "nbformat": 4,
 "nbformat_minor": 5
}
