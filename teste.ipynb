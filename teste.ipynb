{
  "cells": [
    {
      "cell_type": "code",
      "execution_count": 1,
      "id": "073b03c1",
      "metadata": {
        "id": "073b03c1"
      },
      "outputs": [],
      "source": [
        "import numpy as np\n",
        "import matplotlib.pyplot as plt\n",
        "from scipy.optimize import curve_fit\n",
        "from ipywidgets import *;"
      ]
    },
    {
      "cell_type": "code",
      "execution_count": 57,
      "id": "403da214",
      "metadata": {
        "id": "403da214"
      },
      "outputs": [],
      "source": [
        "def gaussiana(x, amp, mean, stddev, bg):\n",
        "    return amp * np.exp(-(x - mean)**2 / (2 * stddev**2)) / (np.sqrt(2*np.pi)*stddev) + bg"
      ]
    },
    {
      "cell_type": "markdown",
      "id": "e055c4cb",
      "metadata": {
        "id": "e055c4cb"
      },
      "source": [
        "# Significância estatística\n",
        "\n",
        "BlaBla *Bla*"
      ]
    },
    {
      "cell_type": "code",
      "execution_count": 98,
      "id": "74f96b58",
      "metadata": {
        "id": "74f96b58"
      },
      "outputs": [],
      "source": [
        "fundo = 200\n",
        "\n",
        "x = np.random.randn(10000)\n",
        "bg = np.random.rand(fundo*100)*16.0-8.0\n",
        "\n",
        "def histograma(x,bg,w):\n",
        "    buffer = np.concatenate((x[:int(w)],bg))\n",
        "    bin_heights, bin_edges, _ = plt.hist(buffer,bins=100, range=(-8,8));\n",
        "    bin_centers = (bin_edges[:-1] + bin_edges[1:]) / 2\n",
        "    popt, pcov = curve_fit(gaussiana, bin_centers, bin_heights, p0=[1, 0, 1, 0], bounds=(0,np.inf))\n",
        "    x_interval = np.linspace(bin_edges[0], bin_edges[-1], 1000)\n",
        "    plt.plot(x_interval, gaussiana(x_interval, *popt), color='r', label='Ajuste Gaussiano')\n",
        "    plt.text(-7,800,'Centro: %.2f \\nSigma: %.2f\\nArea: %.2f\\nBG: %.2f'%(popt[1],popt[2],popt[0]/(bin_edges[1]-bin_edges[0]),popt[3]))\n",
        "    plt.xlim(xmin=-8, xmax=8)\n",
        "    plt.ylim(ymin=0,ymax=1000)\n",
        "    plt.show()\n",
        "    plt.clf() # Limpa os eixos\n",
        "    plt.cla() # Limpa a figura\n",
        "    plt.close() # Fecha o gráfico"
      ]
    },
    {
      "cell_type": "code",
      "execution_count": 99,
      "id": "2150dc70",
      "metadata": {
        "colab": {
          "base_uri": "https://localhost:8080/",
          "height": 467,
          "referenced_widgets": [
            "d9e02ad8dba141b3ab8438a4c350b697",
            "70756dd136494523996a363dc517b40b",
            "6e14fb8aca6e43438f3d4e2c14a164ce",
            "79b104a0b5cd4c5ba93ca55487172f51",
            "9ac06b130b074355b6391babe1302f86",
            "ffb508754c324ab48a13c52fea9fc1ef",
            "c13c277b912a45049da0249d25ae968b"
          ]
        },
        "id": "2150dc70",
        "outputId": "0e0ccd47-5a60-4130-f1ad-98f21496f456"
      },
      "outputs": [
        {
          "output_type": "display_data",
          "data": {
            "text/plain": [
              "interactive(children=(FloatSlider(value=20.0, description='w', max=10000.0, min=4.0, step=100.0), Output()), _…"
            ],
            "application/vnd.jupyter.widget-view+json": {
              "version_major": 2,
              "version_minor": 0,
              "model_id": "d9e02ad8dba141b3ab8438a4c350b697"
            }
          },
          "metadata": {}
        }
      ],
      "source": [
        "def update(w = 20):\n",
        "        histograma(x,bg,w)\n",
        "interact(update,w=(4,1e4,100));"
      ]
    },
    {
      "cell_type": "code",
      "source": [
        "def update2(order = 1, s=0.1):\n",
        "    x = np.asarray([0, 1, 2, 3, 4, 5, 6, 7, 8, 9, 10])\n",
        "    y = np.asarray([1.10, 10.93, 48.90, 91.17, 123.42, 129.07, 100.53, 38.90, -84.15, -209.99, -612.69])\n",
        "    #sy = 0.1*np.abs(y)+20\n",
        "    sy = s*np.abs(y)\n",
        "    p = np.polyfit(x,y,order,w=1/sy)\n",
        "    plt.errorbar(x,y,yerr = sy, fmt='o')\n",
        "    xfino = np.linspace(x.min(),x.max()*1.2,100)\n",
        "    plt.plot(xfino,np.polyval(p,xfino),'r')\n",
        "    plt.xlim(xmin=0.0,xmax=12)\n",
        "    plt.ylim(ymin=-1400,ymax=250)\n",
        "    chi2 = ((( np.polyval(p,x) - y ) / sy )**2).sum()\n",
        "    aic = 2*(order + chi2)\n",
        "    plt.text(1,-600, 'chi2: %.2f\\nchi2_esperado: %.2f\\n\\nAIC: %.2f'%(chi2,11-order,aic))\n",
        "    plt.show()\n",
        "    plt.clf() # Limpa os eixos\n",
        "    plt.cla() # Limpa a figura\n",
        "    plt.close(); # Fecha o gráfico\n",
        "\n",
        "interact(update2,order=(1,8,1),s=(0.01,0.3,0.02));\n"
      ],
      "metadata": {
        "id": "c25OLvkEeo1F",
        "outputId": "531b6b56-e5c4-41a3-d7e0-bad09c80469f",
        "colab": {
          "base_uri": "https://localhost:8080/",
          "height": 494,
          "referenced_widgets": [
            "4ce3d8a424cd4d03911bb1d40aef8e5e",
            "ec3cf7d7a93f46c595837d74ea308fae",
            "bad1f58525fc447ca64e6718e1996423",
            "09739d82d0df44638e61161198f1fbde",
            "b5289873496643fdab5c66d3690994ba",
            "5d030aa4210f460fb16054a6281f621d",
            "65017e046b46479d95d6781b5026d9bf",
            "137d1c08d0914ae88084b916f2e0be4f",
            "fb34e2c87327436aa097999050c220a0",
            "0c51e6dba1984e8186e84ec2f30838cb"
          ]
        }
      },
      "id": "c25OLvkEeo1F",
      "execution_count": 112,
      "outputs": [
        {
          "output_type": "display_data",
          "data": {
            "text/plain": [
              "interactive(children=(IntSlider(value=1, description='order', max=8, min=1), FloatSlider(value=0.1, descriptio…"
            ],
            "application/vnd.jupyter.widget-view+json": {
              "version_major": 2,
              "version_minor": 0,
              "model_id": "4ce3d8a424cd4d03911bb1d40aef8e5e"
            }
          },
          "metadata": {}
        }
      ]
    },
    {
      "cell_type": "code",
      "source": [],
      "metadata": {
        "id": "Y3uqIH8bgCS3"
      },
      "id": "Y3uqIH8bgCS3",
      "execution_count": null,
      "outputs": []
    }
  ],
  "metadata": {
    "kernelspec": {
      "display_name": "Python 3 (ipykernel)",
      "language": "python",
      "name": "python3"
    },
    "language_info": {
      "codemirror_mode": {
        "name": "ipython",
        "version": 3
      },
      "file_extension": ".py",
      "mimetype": "text/x-python",
      "name": "python",
      "nbconvert_exporter": "python",
      "pygments_lexer": "ipython3",
      "version": "3.10.12"
    },
    "colab": {
      "provenance": []
    },
    "widgets": {
      "application/vnd.jupyter.widget-state+json": {
        "d9e02ad8dba141b3ab8438a4c350b697": {
          "model_module": "@jupyter-widgets/controls",
          "model_name": "VBoxModel",
          "model_module_version": "1.5.0",
          "state": {
            "_dom_classes": [
              "widget-interact"
            ],
            "_model_module": "@jupyter-widgets/controls",
            "_model_module_version": "1.5.0",
            "_model_name": "VBoxModel",
            "_view_count": null,
            "_view_module": "@jupyter-widgets/controls",
            "_view_module_version": "1.5.0",
            "_view_name": "VBoxView",
            "box_style": "",
            "children": [
              "IPY_MODEL_70756dd136494523996a363dc517b40b",
              "IPY_MODEL_6e14fb8aca6e43438f3d4e2c14a164ce"
            ],
            "layout": "IPY_MODEL_79b104a0b5cd4c5ba93ca55487172f51"
          }
        },
        "70756dd136494523996a363dc517b40b": {
          "model_module": "@jupyter-widgets/controls",
          "model_name": "FloatSliderModel",
          "model_module_version": "1.5.0",
          "state": {
            "_dom_classes": [],
            "_model_module": "@jupyter-widgets/controls",
            "_model_module_version": "1.5.0",
            "_model_name": "FloatSliderModel",
            "_view_count": null,
            "_view_module": "@jupyter-widgets/controls",
            "_view_module_version": "1.5.0",
            "_view_name": "FloatSliderView",
            "continuous_update": true,
            "description": "w",
            "description_tooltip": null,
            "disabled": false,
            "layout": "IPY_MODEL_9ac06b130b074355b6391babe1302f86",
            "max": 10000,
            "min": 4,
            "orientation": "horizontal",
            "readout": true,
            "readout_format": ".2f",
            "step": 100,
            "style": "IPY_MODEL_ffb508754c324ab48a13c52fea9fc1ef",
            "value": 5704
          }
        },
        "6e14fb8aca6e43438f3d4e2c14a164ce": {
          "model_module": "@jupyter-widgets/output",
          "model_name": "OutputModel",
          "model_module_version": "1.0.0",
          "state": {
            "_dom_classes": [],
            "_model_module": "@jupyter-widgets/output",
            "_model_module_version": "1.0.0",
            "_model_name": "OutputModel",
            "_view_count": null,
            "_view_module": "@jupyter-widgets/output",
            "_view_module_version": "1.0.0",
            "_view_name": "OutputView",
            "layout": "IPY_MODEL_c13c277b912a45049da0249d25ae968b",
            "msg_id": "",
            "outputs": [
              {
                "output_type": "display_data",
                "data": {
                  "text/plain": "<Figure size 640x480 with 1 Axes>",
                  "image/png": "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\n"
                },
                "metadata": {}
              }
            ]
          }
        },
        "79b104a0b5cd4c5ba93ca55487172f51": {
          "model_module": "@jupyter-widgets/base",
          "model_name": "LayoutModel",
          "model_module_version": "1.2.0",
          "state": {
            "_model_module": "@jupyter-widgets/base",
            "_model_module_version": "1.2.0",
            "_model_name": "LayoutModel",
            "_view_count": null,
            "_view_module": "@jupyter-widgets/base",
            "_view_module_version": "1.2.0",
            "_view_name": "LayoutView",
            "align_content": null,
            "align_items": null,
            "align_self": null,
            "border": null,
            "bottom": null,
            "display": null,
            "flex": null,
            "flex_flow": null,
            "grid_area": null,
            "grid_auto_columns": null,
            "grid_auto_flow": null,
            "grid_auto_rows": null,
            "grid_column": null,
            "grid_gap": null,
            "grid_row": null,
            "grid_template_areas": null,
            "grid_template_columns": null,
            "grid_template_rows": null,
            "height": null,
            "justify_content": null,
            "justify_items": null,
            "left": null,
            "margin": null,
            "max_height": null,
            "max_width": null,
            "min_height": null,
            "min_width": null,
            "object_fit": null,
            "object_position": null,
            "order": null,
            "overflow": null,
            "overflow_x": null,
            "overflow_y": null,
            "padding": null,
            "right": null,
            "top": null,
            "visibility": null,
            "width": null
          }
        },
        "9ac06b130b074355b6391babe1302f86": {
          "model_module": "@jupyter-widgets/base",
          "model_name": "LayoutModel",
          "model_module_version": "1.2.0",
          "state": {
            "_model_module": "@jupyter-widgets/base",
            "_model_module_version": "1.2.0",
            "_model_name": "LayoutModel",
            "_view_count": null,
            "_view_module": "@jupyter-widgets/base",
            "_view_module_version": "1.2.0",
            "_view_name": "LayoutView",
            "align_content": null,
            "align_items": null,
            "align_self": null,
            "border": null,
            "bottom": null,
            "display": null,
            "flex": null,
            "flex_flow": null,
            "grid_area": null,
            "grid_auto_columns": null,
            "grid_auto_flow": null,
            "grid_auto_rows": null,
            "grid_column": null,
            "grid_gap": null,
            "grid_row": null,
            "grid_template_areas": null,
            "grid_template_columns": null,
            "grid_template_rows": null,
            "height": null,
            "justify_content": null,
            "justify_items": null,
            "left": null,
            "margin": null,
            "max_height": null,
            "max_width": null,
            "min_height": null,
            "min_width": null,
            "object_fit": null,
            "object_position": null,
            "order": null,
            "overflow": null,
            "overflow_x": null,
            "overflow_y": null,
            "padding": null,
            "right": null,
            "top": null,
            "visibility": null,
            "width": null
          }
        },
        "ffb508754c324ab48a13c52fea9fc1ef": {
          "model_module": "@jupyter-widgets/controls",
          "model_name": "SliderStyleModel",
          "model_module_version": "1.5.0",
          "state": {
            "_model_module": "@jupyter-widgets/controls",
            "_model_module_version": "1.5.0",
            "_model_name": "SliderStyleModel",
            "_view_count": null,
            "_view_module": "@jupyter-widgets/base",
            "_view_module_version": "1.2.0",
            "_view_name": "StyleView",
            "description_width": "",
            "handle_color": null
          }
        },
        "c13c277b912a45049da0249d25ae968b": {
          "model_module": "@jupyter-widgets/base",
          "model_name": "LayoutModel",
          "model_module_version": "1.2.0",
          "state": {
            "_model_module": "@jupyter-widgets/base",
            "_model_module_version": "1.2.0",
            "_model_name": "LayoutModel",
            "_view_count": null,
            "_view_module": "@jupyter-widgets/base",
            "_view_module_version": "1.2.0",
            "_view_name": "LayoutView",
            "align_content": null,
            "align_items": null,
            "align_self": null,
            "border": null,
            "bottom": null,
            "display": null,
            "flex": null,
            "flex_flow": null,
            "grid_area": null,
            "grid_auto_columns": null,
            "grid_auto_flow": null,
            "grid_auto_rows": null,
            "grid_column": null,
            "grid_gap": null,
            "grid_row": null,
            "grid_template_areas": null,
            "grid_template_columns": null,
            "grid_template_rows": null,
            "height": null,
            "justify_content": null,
            "justify_items": null,
            "left": null,
            "margin": null,
            "max_height": null,
            "max_width": null,
            "min_height": null,
            "min_width": null,
            "object_fit": null,
            "object_position": null,
            "order": null,
            "overflow": null,
            "overflow_x": null,
            "overflow_y": null,
            "padding": null,
            "right": null,
            "top": null,
            "visibility": null,
            "width": null
          }
        },
        "4ce3d8a424cd4d03911bb1d40aef8e5e": {
          "model_module": "@jupyter-widgets/controls",
          "model_name": "VBoxModel",
          "model_module_version": "1.5.0",
          "state": {
            "_dom_classes": [
              "widget-interact"
            ],
            "_model_module": "@jupyter-widgets/controls",
            "_model_module_version": "1.5.0",
            "_model_name": "VBoxModel",
            "_view_count": null,
            "_view_module": "@jupyter-widgets/controls",
            "_view_module_version": "1.5.0",
            "_view_name": "VBoxView",
            "box_style": "",
            "children": [
              "IPY_MODEL_ec3cf7d7a93f46c595837d74ea308fae",
              "IPY_MODEL_bad1f58525fc447ca64e6718e1996423",
              "IPY_MODEL_09739d82d0df44638e61161198f1fbde"
            ],
            "layout": "IPY_MODEL_b5289873496643fdab5c66d3690994ba"
          }
        },
        "ec3cf7d7a93f46c595837d74ea308fae": {
          "model_module": "@jupyter-widgets/controls",
          "model_name": "IntSliderModel",
          "model_module_version": "1.5.0",
          "state": {
            "_dom_classes": [],
            "_model_module": "@jupyter-widgets/controls",
            "_model_module_version": "1.5.0",
            "_model_name": "IntSliderModel",
            "_view_count": null,
            "_view_module": "@jupyter-widgets/controls",
            "_view_module_version": "1.5.0",
            "_view_name": "IntSliderView",
            "continuous_update": true,
            "description": "order",
            "description_tooltip": null,
            "disabled": false,
            "layout": "IPY_MODEL_5d030aa4210f460fb16054a6281f621d",
            "max": 8,
            "min": 1,
            "orientation": "horizontal",
            "readout": true,
            "readout_format": "d",
            "step": 1,
            "style": "IPY_MODEL_65017e046b46479d95d6781b5026d9bf",
            "value": 3
          }
        },
        "bad1f58525fc447ca64e6718e1996423": {
          "model_module": "@jupyter-widgets/controls",
          "model_name": "FloatSliderModel",
          "model_module_version": "1.5.0",
          "state": {
            "_dom_classes": [],
            "_model_module": "@jupyter-widgets/controls",
            "_model_module_version": "1.5.0",
            "_model_name": "FloatSliderModel",
            "_view_count": null,
            "_view_module": "@jupyter-widgets/controls",
            "_view_module_version": "1.5.0",
            "_view_name": "FloatSliderView",
            "continuous_update": true,
            "description": "s",
            "description_tooltip": null,
            "disabled": false,
            "layout": "IPY_MODEL_137d1c08d0914ae88084b916f2e0be4f",
            "max": 0.3,
            "min": 0.01,
            "orientation": "horizontal",
            "readout": true,
            "readout_format": ".2f",
            "step": 0.02,
            "style": "IPY_MODEL_fb34e2c87327436aa097999050c220a0",
            "value": 0.13
          }
        },
        "09739d82d0df44638e61161198f1fbde": {
          "model_module": "@jupyter-widgets/output",
          "model_name": "OutputModel",
          "model_module_version": "1.0.0",
          "state": {
            "_dom_classes": [],
            "_model_module": "@jupyter-widgets/output",
            "_model_module_version": "1.0.0",
            "_model_name": "OutputModel",
            "_view_count": null,
            "_view_module": "@jupyter-widgets/output",
            "_view_module_version": "1.0.0",
            "_view_name": "OutputView",
            "layout": "IPY_MODEL_0c51e6dba1984e8186e84ec2f30838cb",
            "msg_id": "",
            "outputs": [
              {
                "output_type": "display_data",
                "data": {
                  "text/plain": "<Figure size 640x480 with 1 Axes>",
                  "image/png": "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\n"
                },
                "metadata": {}
              }
            ]
          }
        },
        "b5289873496643fdab5c66d3690994ba": {
          "model_module": "@jupyter-widgets/base",
          "model_name": "LayoutModel",
          "model_module_version": "1.2.0",
          "state": {
            "_model_module": "@jupyter-widgets/base",
            "_model_module_version": "1.2.0",
            "_model_name": "LayoutModel",
            "_view_count": null,
            "_view_module": "@jupyter-widgets/base",
            "_view_module_version": "1.2.0",
            "_view_name": "LayoutView",
            "align_content": null,
            "align_items": null,
            "align_self": null,
            "border": null,
            "bottom": null,
            "display": null,
            "flex": null,
            "flex_flow": null,
            "grid_area": null,
            "grid_auto_columns": null,
            "grid_auto_flow": null,
            "grid_auto_rows": null,
            "grid_column": null,
            "grid_gap": null,
            "grid_row": null,
            "grid_template_areas": null,
            "grid_template_columns": null,
            "grid_template_rows": null,
            "height": null,
            "justify_content": null,
            "justify_items": null,
            "left": null,
            "margin": null,
            "max_height": null,
            "max_width": null,
            "min_height": null,
            "min_width": null,
            "object_fit": null,
            "object_position": null,
            "order": null,
            "overflow": null,
            "overflow_x": null,
            "overflow_y": null,
            "padding": null,
            "right": null,
            "top": null,
            "visibility": null,
            "width": null
          }
        },
        "5d030aa4210f460fb16054a6281f621d": {
          "model_module": "@jupyter-widgets/base",
          "model_name": "LayoutModel",
          "model_module_version": "1.2.0",
          "state": {
            "_model_module": "@jupyter-widgets/base",
            "_model_module_version": "1.2.0",
            "_model_name": "LayoutModel",
            "_view_count": null,
            "_view_module": "@jupyter-widgets/base",
            "_view_module_version": "1.2.0",
            "_view_name": "LayoutView",
            "align_content": null,
            "align_items": null,
            "align_self": null,
            "border": null,
            "bottom": null,
            "display": null,
            "flex": null,
            "flex_flow": null,
            "grid_area": null,
            "grid_auto_columns": null,
            "grid_auto_flow": null,
            "grid_auto_rows": null,
            "grid_column": null,
            "grid_gap": null,
            "grid_row": null,
            "grid_template_areas": null,
            "grid_template_columns": null,
            "grid_template_rows": null,
            "height": null,
            "justify_content": null,
            "justify_items": null,
            "left": null,
            "margin": null,
            "max_height": null,
            "max_width": null,
            "min_height": null,
            "min_width": null,
            "object_fit": null,
            "object_position": null,
            "order": null,
            "overflow": null,
            "overflow_x": null,
            "overflow_y": null,
            "padding": null,
            "right": null,
            "top": null,
            "visibility": null,
            "width": null
          }
        },
        "65017e046b46479d95d6781b5026d9bf": {
          "model_module": "@jupyter-widgets/controls",
          "model_name": "SliderStyleModel",
          "model_module_version": "1.5.0",
          "state": {
            "_model_module": "@jupyter-widgets/controls",
            "_model_module_version": "1.5.0",
            "_model_name": "SliderStyleModel",
            "_view_count": null,
            "_view_module": "@jupyter-widgets/base",
            "_view_module_version": "1.2.0",
            "_view_name": "StyleView",
            "description_width": "",
            "handle_color": null
          }
        },
        "137d1c08d0914ae88084b916f2e0be4f": {
          "model_module": "@jupyter-widgets/base",
          "model_name": "LayoutModel",
          "model_module_version": "1.2.0",
          "state": {
            "_model_module": "@jupyter-widgets/base",
            "_model_module_version": "1.2.0",
            "_model_name": "LayoutModel",
            "_view_count": null,
            "_view_module": "@jupyter-widgets/base",
            "_view_module_version": "1.2.0",
            "_view_name": "LayoutView",
            "align_content": null,
            "align_items": null,
            "align_self": null,
            "border": null,
            "bottom": null,
            "display": null,
            "flex": null,
            "flex_flow": null,
            "grid_area": null,
            "grid_auto_columns": null,
            "grid_auto_flow": null,
            "grid_auto_rows": null,
            "grid_column": null,
            "grid_gap": null,
            "grid_row": null,
            "grid_template_areas": null,
            "grid_template_columns": null,
            "grid_template_rows": null,
            "height": null,
            "justify_content": null,
            "justify_items": null,
            "left": null,
            "margin": null,
            "max_height": null,
            "max_width": null,
            "min_height": null,
            "min_width": null,
            "object_fit": null,
            "object_position": null,
            "order": null,
            "overflow": null,
            "overflow_x": null,
            "overflow_y": null,
            "padding": null,
            "right": null,
            "top": null,
            "visibility": null,
            "width": null
          }
        },
        "fb34e2c87327436aa097999050c220a0": {
          "model_module": "@jupyter-widgets/controls",
          "model_name": "SliderStyleModel",
          "model_module_version": "1.5.0",
          "state": {
            "_model_module": "@jupyter-widgets/controls",
            "_model_module_version": "1.5.0",
            "_model_name": "SliderStyleModel",
            "_view_count": null,
            "_view_module": "@jupyter-widgets/base",
            "_view_module_version": "1.2.0",
            "_view_name": "StyleView",
            "description_width": "",
            "handle_color": null
          }
        },
        "0c51e6dba1984e8186e84ec2f30838cb": {
          "model_module": "@jupyter-widgets/base",
          "model_name": "LayoutModel",
          "model_module_version": "1.2.0",
          "state": {
            "_model_module": "@jupyter-widgets/base",
            "_model_module_version": "1.2.0",
            "_model_name": "LayoutModel",
            "_view_count": null,
            "_view_module": "@jupyter-widgets/base",
            "_view_module_version": "1.2.0",
            "_view_name": "LayoutView",
            "align_content": null,
            "align_items": null,
            "align_self": null,
            "border": null,
            "bottom": null,
            "display": null,
            "flex": null,
            "flex_flow": null,
            "grid_area": null,
            "grid_auto_columns": null,
            "grid_auto_flow": null,
            "grid_auto_rows": null,
            "grid_column": null,
            "grid_gap": null,
            "grid_row": null,
            "grid_template_areas": null,
            "grid_template_columns": null,
            "grid_template_rows": null,
            "height": null,
            "justify_content": null,
            "justify_items": null,
            "left": null,
            "margin": null,
            "max_height": null,
            "max_width": null,
            "min_height": null,
            "min_width": null,
            "object_fit": null,
            "object_position": null,
            "order": null,
            "overflow": null,
            "overflow_x": null,
            "overflow_y": null,
            "padding": null,
            "right": null,
            "top": null,
            "visibility": null,
            "width": null
          }
        }
      }
    }
  },
  "nbformat": 4,
  "nbformat_minor": 5
}